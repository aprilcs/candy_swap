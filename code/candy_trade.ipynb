{
 "cells": [
  {
   "cell_type": "markdown",
   "metadata": {},
   "source": [
    "# Candy Trade\n",
    "This notebook contains all data and code to replicate our candy trade analyses. Every participant of the tutorial received a handful of candy. They then conducted an experiment exploring the impact of candy trading on their candy selection happiness:\n",
    "\n",
    "1. **Pre-trade**: Participants were asked to rate the happiness of their candy selection on a scale from 1-10 (trade 0). \n",
    "\n",
    "2. **Trade 1**: Participants were then allowed to trade with one participant and rate the happiness with their selection following the trade on a scale from 1-10 (trade 1). \n",
    "\n",
    "3. **Trade 2**: Participants were then allowed to trade with the whole group and rate their happiness with their final selection on a scale from 1-10 (trade 2)."
   ]
  },
  {
   "cell_type": "markdown",
   "metadata": {},
   "source": [
    "We will start the analyses of our candy trade data by importing the necessary packages."
   ]
  },
  {
   "cell_type": "code",
   "execution_count": 1,
   "metadata": {},
   "outputs": [
    {
     "data": {
      "text/plain": [
       "2"
      ]
     },
     "execution_count": 1,
     "metadata": {},
     "output_type": "execute_result"
    }
   ],
   "source": [
    "1+1"
   ]
  },
  {
   "cell_type": "code",
   "execution_count": 2,
   "metadata": {},
   "outputs": [],
   "source": [
    "import pandas as pd \n",
    "import numpy as np\n",
    "import matplotlib.pyplot as plt\n",
    "%matplotlib inline"
   ]
  },
  {
   "cell_type": "markdown",
   "metadata": {},
   "source": [
    "Our data was collected using a [google form](https://goo.gl/forms/Mxi2fKrOYc9UCB9j1). For each trade, the participants contributed their name (*\"participant_name\"*), which trade they had just finished (*\"trade_number\"*), and their current happiness with their candy selection (*\"happiness_rating\"*). "
   ]
  },
  {
   "cell_type": "code",
   "execution_count": 3,
   "metadata": {},
   "outputs": [
    {
     "data": {
      "text/html": [
       "<div>\n",
       "<style scoped>\n",
       "    .dataframe tbody tr th:only-of-type {\n",
       "        vertical-align: middle;\n",
       "    }\n",
       "\n",
       "    .dataframe tbody tr th {\n",
       "        vertical-align: top;\n",
       "    }\n",
       "\n",
       "    .dataframe thead th {\n",
       "        text-align: right;\n",
       "    }\n",
       "</style>\n",
       "<table border=\"1\" class=\"dataframe\">\n",
       "  <thead>\n",
       "    <tr style=\"text-align: right;\">\n",
       "      <th></th>\n",
       "      <th>Timestamp</th>\n",
       "      <th>participant_name</th>\n",
       "      <th>trade_number</th>\n",
       "      <th>happiness_rating</th>\n",
       "    </tr>\n",
       "  </thead>\n",
       "  <tbody>\n",
       "    <tr>\n",
       "      <th>0</th>\n",
       "      <td>2019/05/21 11:55:40 AM MDT</td>\n",
       "      <td>Meghan Balk</td>\n",
       "      <td>0</td>\n",
       "      <td>10</td>\n",
       "    </tr>\n",
       "    <tr>\n",
       "      <th>1</th>\n",
       "      <td>2019/05/21 11:55:44 AM MDT</td>\n",
       "      <td>Harry</td>\n",
       "      <td>0</td>\n",
       "      <td>10</td>\n",
       "    </tr>\n",
       "    <tr>\n",
       "      <th>2</th>\n",
       "      <td>2019/05/21 11:55:46 AM MDT</td>\n",
       "      <td>Danielle</td>\n",
       "      <td>0</td>\n",
       "      <td>4</td>\n",
       "    </tr>\n",
       "    <tr>\n",
       "      <th>3</th>\n",
       "      <td>2019/05/21 11:55:50 AM MDT</td>\n",
       "      <td>Damian Romero</td>\n",
       "      <td>0</td>\n",
       "      <td>10</td>\n",
       "    </tr>\n",
       "    <tr>\n",
       "      <th>4</th>\n",
       "      <td>2019/05/21 11:55:50 AM MDT</td>\n",
       "      <td>Michelle</td>\n",
       "      <td>0</td>\n",
       "      <td>7</td>\n",
       "    </tr>\n",
       "    <tr>\n",
       "      <th>5</th>\n",
       "      <td>2019/05/21 11:55:50 AM MDT</td>\n",
       "      <td>Ashish Singh</td>\n",
       "      <td>0</td>\n",
       "      <td>7</td>\n",
       "    </tr>\n",
       "    <tr>\n",
       "      <th>6</th>\n",
       "      <td>2019/05/21 11:55:51 AM MDT</td>\n",
       "      <td>Linh Tran</td>\n",
       "      <td>0</td>\n",
       "      <td>5</td>\n",
       "    </tr>\n",
       "    <tr>\n",
       "      <th>7</th>\n",
       "      <td>2019/05/21 11:55:52 AM MDT</td>\n",
       "      <td>Fernando</td>\n",
       "      <td>0</td>\n",
       "      <td>3</td>\n",
       "    </tr>\n",
       "    <tr>\n",
       "      <th>8</th>\n",
       "      <td>2019/05/21 11:55:52 AM MDT</td>\n",
       "      <td>Mark Agate</td>\n",
       "      <td>0</td>\n",
       "      <td>6</td>\n",
       "    </tr>\n",
       "    <tr>\n",
       "      <th>9</th>\n",
       "      <td>2019/05/21 11:55:53 AM MDT</td>\n",
       "      <td>Gracce</td>\n",
       "      <td>0</td>\n",
       "      <td>6</td>\n",
       "    </tr>\n",
       "    <tr>\n",
       "      <th>10</th>\n",
       "      <td>2019/05/21 11:55:56 AM MDT</td>\n",
       "      <td>Tom</td>\n",
       "      <td>0</td>\n",
       "      <td>7</td>\n",
       "    </tr>\n",
       "    <tr>\n",
       "      <th>11</th>\n",
       "      <td>2019/05/21 11:55:57 AM MDT</td>\n",
       "      <td>Drake</td>\n",
       "      <td>0</td>\n",
       "      <td>2</td>\n",
       "    </tr>\n",
       "    <tr>\n",
       "      <th>12</th>\n",
       "      <td>2019/05/21 11:55:59 AM MDT</td>\n",
       "      <td>Keith</td>\n",
       "      <td>1</td>\n",
       "      <td>2</td>\n",
       "    </tr>\n",
       "    <tr>\n",
       "      <th>13</th>\n",
       "      <td>2019/05/21 11:56:29 AM MDT</td>\n",
       "      <td>Angela Hughes</td>\n",
       "      <td>2</td>\n",
       "      <td>8</td>\n",
       "    </tr>\n",
       "    <tr>\n",
       "      <th>14</th>\n",
       "      <td>2019/05/21 11:57:55 AM MDT</td>\n",
       "      <td>Grace</td>\n",
       "      <td>1</td>\n",
       "      <td>9</td>\n",
       "    </tr>\n",
       "    <tr>\n",
       "      <th>15</th>\n",
       "      <td>2019/05/21 11:57:56 AM MDT</td>\n",
       "      <td>Linh Tran</td>\n",
       "      <td>1</td>\n",
       "      <td>8</td>\n",
       "    </tr>\n",
       "    <tr>\n",
       "      <th>16</th>\n",
       "      <td>2019/05/21 11:57:56 AM MDT</td>\n",
       "      <td>Michelle</td>\n",
       "      <td>1</td>\n",
       "      <td>9</td>\n",
       "    </tr>\n",
       "    <tr>\n",
       "      <th>17</th>\n",
       "      <td>2019/05/21 11:57:57 AM MDT</td>\n",
       "      <td>Meghan Balk</td>\n",
       "      <td>1</td>\n",
       "      <td>9</td>\n",
       "    </tr>\n",
       "    <tr>\n",
       "      <th>18</th>\n",
       "      <td>2019/05/21 11:57:57 AM MDT</td>\n",
       "      <td>Danielle</td>\n",
       "      <td>1</td>\n",
       "      <td>10</td>\n",
       "    </tr>\n",
       "    <tr>\n",
       "      <th>19</th>\n",
       "      <td>2019/05/21 11:57:57 AM MDT</td>\n",
       "      <td>Harry</td>\n",
       "      <td>1</td>\n",
       "      <td>10</td>\n",
       "    </tr>\n",
       "    <tr>\n",
       "      <th>20</th>\n",
       "      <td>2019/05/21 11:57:57 AM MDT</td>\n",
       "      <td>Mark Agate</td>\n",
       "      <td>1</td>\n",
       "      <td>10</td>\n",
       "    </tr>\n",
       "    <tr>\n",
       "      <th>21</th>\n",
       "      <td>2019/05/21 11:57:58 AM MDT</td>\n",
       "      <td>Ashish Singh</td>\n",
       "      <td>1</td>\n",
       "      <td>8</td>\n",
       "    </tr>\n",
       "    <tr>\n",
       "      <th>22</th>\n",
       "      <td>2019/05/21 11:57:59 AM MDT</td>\n",
       "      <td>Fernando</td>\n",
       "      <td>1</td>\n",
       "      <td>5</td>\n",
       "    </tr>\n",
       "    <tr>\n",
       "      <th>23</th>\n",
       "      <td>2019/05/21 11:58:00 AM MDT</td>\n",
       "      <td>Drake</td>\n",
       "      <td>1</td>\n",
       "      <td>8</td>\n",
       "    </tr>\n",
       "    <tr>\n",
       "      <th>24</th>\n",
       "      <td>2019/05/21 11:58:01 AM MDT</td>\n",
       "      <td>Damian Romero</td>\n",
       "      <td>1</td>\n",
       "      <td>10</td>\n",
       "    </tr>\n",
       "    <tr>\n",
       "      <th>25</th>\n",
       "      <td>2019/05/21 11:58:01 AM MDT</td>\n",
       "      <td>Keith</td>\n",
       "      <td>0</td>\n",
       "      <td>2</td>\n",
       "    </tr>\n",
       "    <tr>\n",
       "      <th>26</th>\n",
       "      <td>2019/05/21 11:58:10 AM MDT</td>\n",
       "      <td>NaN</td>\n",
       "      <td>2</td>\n",
       "      <td>6</td>\n",
       "    </tr>\n",
       "    <tr>\n",
       "      <th>27</th>\n",
       "      <td>2019/05/21 11:58:13 AM MDT</td>\n",
       "      <td>Tom</td>\n",
       "      <td>1</td>\n",
       "      <td>8</td>\n",
       "    </tr>\n",
       "  </tbody>\n",
       "</table>\n",
       "</div>"
      ],
      "text/plain": [
       "                     Timestamp participant_name  trade_number  \\\n",
       "0   2019/05/21 11:55:40 AM MDT      Meghan Balk             0   \n",
       "1   2019/05/21 11:55:44 AM MDT            Harry             0   \n",
       "2   2019/05/21 11:55:46 AM MDT         Danielle             0   \n",
       "3   2019/05/21 11:55:50 AM MDT    Damian Romero             0   \n",
       "4   2019/05/21 11:55:50 AM MDT         Michelle             0   \n",
       "5   2019/05/21 11:55:50 AM MDT     Ashish Singh             0   \n",
       "6   2019/05/21 11:55:51 AM MDT        Linh Tran             0   \n",
       "7   2019/05/21 11:55:52 AM MDT         Fernando             0   \n",
       "8   2019/05/21 11:55:52 AM MDT       Mark Agate             0   \n",
       "9   2019/05/21 11:55:53 AM MDT           Gracce             0   \n",
       "10  2019/05/21 11:55:56 AM MDT              Tom             0   \n",
       "11  2019/05/21 11:55:57 AM MDT            Drake             0   \n",
       "12  2019/05/21 11:55:59 AM MDT            Keith             1   \n",
       "13  2019/05/21 11:56:29 AM MDT    Angela Hughes             2   \n",
       "14  2019/05/21 11:57:55 AM MDT            Grace             1   \n",
       "15  2019/05/21 11:57:56 AM MDT        Linh Tran             1   \n",
       "16  2019/05/21 11:57:56 AM MDT         Michelle             1   \n",
       "17  2019/05/21 11:57:57 AM MDT      Meghan Balk             1   \n",
       "18  2019/05/21 11:57:57 AM MDT         Danielle             1   \n",
       "19  2019/05/21 11:57:57 AM MDT            Harry             1   \n",
       "20  2019/05/21 11:57:57 AM MDT       Mark Agate             1   \n",
       "21  2019/05/21 11:57:58 AM MDT     Ashish Singh             1   \n",
       "22  2019/05/21 11:57:59 AM MDT         Fernando             1   \n",
       "23  2019/05/21 11:58:00 AM MDT            Drake             1   \n",
       "24  2019/05/21 11:58:01 AM MDT    Damian Romero             1   \n",
       "25  2019/05/21 11:58:01 AM MDT            Keith             0   \n",
       "26  2019/05/21 11:58:10 AM MDT              NaN             2   \n",
       "27  2019/05/21 11:58:13 AM MDT              Tom             1   \n",
       "\n",
       "    happiness_rating  \n",
       "0                 10  \n",
       "1                 10  \n",
       "2                  4  \n",
       "3                 10  \n",
       "4                  7  \n",
       "5                  7  \n",
       "6                  5  \n",
       "7                  3  \n",
       "8                  6  \n",
       "9                  6  \n",
       "10                 7  \n",
       "11                 2  \n",
       "12                 2  \n",
       "13                 8  \n",
       "14                 9  \n",
       "15                 8  \n",
       "16                 9  \n",
       "17                 9  \n",
       "18                10  \n",
       "19                10  \n",
       "20                10  \n",
       "21                 8  \n",
       "22                 5  \n",
       "23                 8  \n",
       "24                10  \n",
       "25                 2  \n",
       "26                 6  \n",
       "27                 8  "
      ]
     },
     "execution_count": 3,
     "metadata": {},
     "output_type": "execute_result"
    }
   ],
   "source": [
    "data = pd.read_csv('../data/data.csv')\n",
    "data"
   ]
  },
  {
   "cell_type": "markdown",
   "metadata": {},
   "source": [
    "## Happiness rating vs. number of trades"
   ]
  },
  {
   "cell_type": "markdown",
   "metadata": {},
   "source": [
    "To explore the trends in individual candy selection happiness over the trades, we created a simple line plot."
   ]
  },
  {
   "cell_type": "code",
   "execution_count": 4,
   "metadata": {},
   "outputs": [
    {
     "data": {
      "image/png": "[encoded data removed]",
      "text/plain": [
       "<Figure size 432x288 with 1 Axes>"
      ]
     },
     "metadata": {
      "needs_background": "light"
     },
     "output_type": "display_data"
    }
   ],
   "source": [
    "fig, ax = plt.subplots()\n",
    "\n",
    "for key, grp in data.groupby(['participant_name']):\n",
    "    ax = grp.plot(ax=ax, kind='line', x='trade_number', y='happiness_rating', label=key)\n",
    "plt.legend(loc='best')\n",
    "plt.xlabel('Number of trades')\n",
    "plt.ylabel('Happiness Rating')\n",
    "plt.title('Happiness of individuals with candy selection vs. number of candy trades')\n",
    "plt.show()"
   ]
  },
  {
   "cell_type": "markdown",
   "metadata": {},
   "source": [
    "## Changes in candy selection happiness of workshop group"
   ]
  },
  {
   "cell_type": "markdown",
   "metadata": {},
   "source": [
    "Finally, we explored whether happiness changed significantly as a group over the trades using a boxplot."
   ]
  },
  {
   "cell_type": "code",
   "execution_count": 5,
   "metadata": {},
   "outputs": [
    {
     "data": {
      "text/plain": [
       "<AxesSubplot:title={'center':'happiness_rating'}, xlabel='trade_number'>"
      ]
     },
     "execution_count": 5,
     "metadata": {},
     "output_type": "execute_result"
    },
    {
     "data": {
      "image/png": "[encoded data removed]",
      "text/plain": [
       "<Figure size 864x576 with 1 Axes>"
      ]
     },
     "metadata": {
      "needs_background": "light"
     },
     "output_type": "display_data"
    }
   ],
   "source": [
    "data.boxplot('happiness_rating', by='trade_number', figsize=(12, 8))"
   ]
  },
  {
   "cell_type": "code",
   "execution_count": null,
   "metadata": {},
   "outputs": [],
   "source": []
  }
 ],
 "metadata": {
  "kernelspec": {
   "display_name": "Python 3",
   "language": "python",
   "name": "python3"
  },
  "language_info": {
   "codemirror_mode": {
    "name": "ipython",
    "version": 3
   },
   "file_extension": ".py",
   "mimetype": "text/x-python",
   "name": "python",
   "nbconvert_exporter": "python",
   "pygments_lexer": "ipython3",
   "version": "3.7.1"
  }
 },
 "nbformat": 4,
 "nbformat_minor": 2
}
